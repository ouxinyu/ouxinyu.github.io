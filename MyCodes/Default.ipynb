{
 "metadata": {
  "name": "",
  "signature": "sha256:d7897533e8f6bb64963fe26781468c48a1507b2a593fbf39a75474bdd4d1ddea"
 },
 "nbformat": 3,
 "nbformat_minor": 0,
 "worksheets": [
  {
   "cells": [
    {
     "cell_type": "heading",
     "level": 1,
     "metadata": {},
     "source": [
      "The Menu of MyCodes"
     ]
    },
    {
     "cell_type": "heading",
     "level": 2,
     "metadata": {},
     "source": [
      "CaffeMaster"
     ]
    },
    {
     "cell_type": "markdown",
     "metadata": {},
     "source": [
      "<ul>\n",
      "    <li style=\"line-height:30px;\"><a href=\"http://nbviewer.ipython.org/github/ouxinyu/ouxinyu.github.io/blob/master/MyCodes/caffe-master/classification.ipynb\">Classifying ImageNet: the instant Caffe way</a></li>\n",
      "    <li style=\"line-height:20px;color:gray;list-style-type:none;\">\u4f7f\u7528\u9884\u8bad\u7ec3\u7684ImageNet\u6a21\u578b\u6765\u5206\u7c7b\u56fe\u7247with Python interface</li>\n",
      "    <li style=\"line-height:30px;\"><a href=\"http://nbviewer.ipython.org/github/ouxinyu/ouxinyu.github.io/blob/master/MyCodes/caffe-master/filter_visualization.ipynb\">Filter visualization</a></li>\n",
      "    <li style=\"line-height:20px;color:gray;list-style-type:none;\">\u4f7f\u7528example image\u62bd\u53d6\u6bcf\u4e00\u5c42\u7684\u7279\u5f81\u5e76\u8fdb\u884c\u53ef\u89c6\u5316</li>\n",
      "    <li style=\"line-height:30px;\"><a href=\"http://nbviewer.ipython.org/github/ouxinyu/ouxinyu.github.io/blob/master/MyCodes/caffe-master/detection.ipynb\">R-CNN detection</a></li>\n",
      "    <li style=\"line-height:20px;color:gray;list-style-type:none;\">\u4f7f\u7528\u9884\u8bad\u7ec3\u6a21\u578b\u5b9e\u73b0RCNN</li>\n",
      "    <li style=\"line-height:30px;\"><a href=\"http://nbviewer.ipython.org/github/ouxinyu/ouxinyu.github.io/blob/master/MyCodes/caffe-master/hdf5_classification.ipynb\">Off-the-shelf SGD for classification</a></li>\n",
      "    <li style=\"line-height:20px;color:gray;list-style-type:none;\">\u4f7f\u7528Caffe\u8bad\u7ec3\u548c\u9884\u6d4b\u4e00\u4e2a\u57fa\u4e8eHDF5\u6570\u636e\u7684 logistic regression \u6a21\u578b</li>\n",
      "    <li style=\"line-height:30px;\"><a href=\"http://nbviewer.ipython.org/github/ouxinyu/ouxinyu.github.io/blob/master/MyCodes/caffe-master/net_surgery.ipynb\">Editing model parameters</a></li>\n",
      "    <li style=\"line-height:20px;color:gray;list-style-type:none;\">How to do net surgery and manually change model parameters, making a fully-convolutional classifier for dense feature extraction.</li>\n",
      "    <li style=\"line-height:30px;\"><a href=\"http://nbviewer.ipython.org/github/ouxinyu/ouxinyu.github.io/blob/master/MyCodes/caffe-master/mnist_siamese.ipynb\">Siamese network embedding</a></li>\n",
      "    <li style=\"line-height:20px;color:gray;list-style-type:none;\">\u4f7f\u7528Siamese network\u8fdb\u884c\u7279\u5f81\u63d0\u53d6\u548cPlotting.</li>\n",
      "</ul>"
     ]
    }
   ],
   "metadata": {}
  }
 ]
}